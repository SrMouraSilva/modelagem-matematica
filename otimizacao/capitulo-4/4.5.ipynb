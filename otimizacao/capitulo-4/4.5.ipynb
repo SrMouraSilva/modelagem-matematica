{
 "cells": [
  {
   "cell_type": "markdown",
   "metadata": {},
   "source": [
    "# 4.5\n",
    "\n",
    "## a)"
   ]
  },
  {
   "cell_type": "code",
   "execution_count": 1,
   "metadata": {},
   "outputs": [],
   "source": [
    "from sympy import *\n",
    "from sympy.plotting import plot, plot3d"
   ]
  },
  {
   "cell_type": "code",
   "execution_count": 2,
   "metadata": {},
   "outputs": [],
   "source": [
    "x1, x2 = var('x1 x2', real=True)\n",
    "alpha = 1e-8\n",
    "\n",
    "dFdx1 = 0.05*x1*((x1-3000)/(x1+3000))*(1-(x1/150_000)) - alpha*x1*x2\n",
    "dFdx2 = 0.08*x2*((x2-15000)/(x2+15000))*(1-(x2/400_000)) - alpha*x1*x2"
   ]
  },
  {
   "cell_type": "code",
   "execution_count": 29,
   "metadata": {},
   "outputs": [
    {
     "data": {
      "text/latex": [
       "$\\displaystyle \\left\\{\\left( 0, \\  0\\right), \\left( 3000.0, \\  0\\right), \\left( 150000.0, \\  0\\right)\\right\\}$"
      ],
      "text/plain": [
       "FiniteSet((0, 0), (3000.0, 0), (150000.0, 0))"
      ]
     },
     "execution_count": 29,
     "metadata": {},
     "output_type": "execute_result"
    }
   ],
   "source": [
    "#s = solve([dFdx1, dFdx2], [x1, x2], dict=True)\n",
    "s = nonlinsolve([dFdx1, dFdx2], [x1, x2])\n",
    "#s = nsolve([dFdx1, dFdx2], [x1, x2], (-1, 1))\n",
    "s"
   ]
  },
  {
   "cell_type": "code",
   "execution_count": 25,
   "metadata": {},
   "outputs": [
    {
     "ename": "TypeError",
     "evalue": "checksol() missing 1 required positional argument: 'symbol'",
     "output_type": "error",
     "traceback": [
      "\u001b[0;31m---------------------------------------------------------------------------\u001b[0m",
      "\u001b[0;31mTypeError\u001b[0m                                 Traceback (most recent call last)",
      "\u001b[0;32m<ipython-input-25-13529bfdd078>\u001b[0m in \u001b[0;36m<module>\u001b[0;34m\u001b[0m\n\u001b[0;32m----> 1\u001b[0;31m \u001b[0mchecksol\u001b[0m\u001b[0;34m(\u001b[0m\u001b[0ms\u001b[0m\u001b[0;34m)\u001b[0m\u001b[0;34m\u001b[0m\u001b[0;34m\u001b[0m\u001b[0m\n\u001b[0m",
      "\u001b[0;31mTypeError\u001b[0m: checksol() missing 1 required positional argument: 'symbol'"
     ]
    }
   ],
   "source": [
    "checksol(s, {x1: x2: })"
   ]
  }
 ],
 "metadata": {
  "kernelspec": {
   "display_name": "Python 3",
   "language": "python",
   "name": "python3"
  },
  "language_info": {
   "codemirror_mode": {
    "name": "ipython",
    "version": 3
   },
   "file_extension": ".py",
   "mimetype": "text/x-python",
   "name": "python",
   "nbconvert_exporter": "python",
   "pygments_lexer": "ipython3",
   "version": "3.8.2"
  }
 },
 "nbformat": 4,
 "nbformat_minor": 4
}
