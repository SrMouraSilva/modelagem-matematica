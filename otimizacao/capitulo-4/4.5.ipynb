{
 "cells": [
  {
   "cell_type": "markdown",
   "metadata": {},
   "source": [
    "# 4.5\n",
    "\n",
    "## a)"
   ]
  },
  {
   "cell_type": "code",
   "execution_count": 1,
   "metadata": {},
   "outputs": [],
   "source": [
    "from sympy import *\n",
    "from sympy.plotting import plot, plot3d"
   ]
  },
  {
   "cell_type": "code",
   "execution_count": 2,
   "metadata": {},
   "outputs": [],
   "source": [
    "x1, x2 = var('x1 x2', real=True)\n",
    "alpha = 1e-8\n",
    "\n",
    "dFdx1 = 0.05*x1*((x1-3000)/(x1+3000))*(1-(x1/150_000)) - alpha*x1*x2\n",
    "dFdx2 = 0.08*x2*((x2-15000)/(x2+15000))*(1-(x2/400_000)) - alpha*x1*x2"
   ]
  },
  {
   "cell_type": "code",
   "execution_count": 3,
   "metadata": {},
   "outputs": [],
   "source": [
    "#s = solve([dFdx1, dFdx2], [x1, x2], dict=True)\n",
    "#s"
   ]
  },
  {
   "cell_type": "code",
   "execution_count": 4,
   "metadata": {},
   "outputs": [
    {
     "data": {
      "text/plain": [
       "{x2: 33.3333333333333*(-x1**2 + 153000.0*x1 - 450000000.0)/(x1 + 3000.0)}"
      ]
     },
     "execution_count": 4,
     "metadata": {},
     "output_type": "execute_result"
    }
   ],
   "source": [
    "s = solve(dFdx1, [x2], dict=True)[0]\n",
    "s"
   ]
  },
  {
   "cell_type": "code",
   "execution_count": 5,
   "metadata": {},
   "outputs": [
    {
     "name": "stdout",
     "output_type": "stream",
     "text": [
      "x2 em função de x1\n"
     ]
    },
    {
     "data": {
      "text/latex": [
       "$\\displaystyle \\frac{- 8.21810699588478 \\cdot 10^{-10} x_{1}^{7} + 0.000364690802469136 x_{1}^{6} - 54.6803125925926 x_{1}^{5} + 2881342.72222222 x_{1}^{4} - 16698433203.3333 x_{1}^{3} + 1119375545000.01 x_{1}^{2} + 1.5471560325 \\cdot 10^{17} x_{1} - 2.43729 \\cdot 10^{20}}{3.7037037037037 \\cdot 10^{-6} x_{1}^{5} - 0.535 x_{1}^{4} - 3353.33333333333 x_{1}^{3} - 289999.999999998 x_{1}^{2} + 29520000000.0 x_{1} + 44865000000000.0}$"
      ],
      "text/plain": [
       "(-8.21810699588478e-10*x1**7 + 0.000364690802469136*x1**6 - 54.6803125925926*x1**5 + 2881342.72222222*x1**4 - 16698433203.3333*x1**3 + 1119375545000.01*x1**2 + 1.5471560325e+17*x1 - 2.43729e+20)/(3.7037037037037e-6*x1**5 - 0.535*x1**4 - 3353.33333333333*x1**3 - 289999.999999998*x1**2 + 29520000000.0*x1 + 44865000000000.0)"
      ]
     },
     "execution_count": 5,
     "metadata": {},
     "output_type": "execute_result"
    }
   ],
   "source": [
    "print('x2 em função de x1')\n",
    "simplify(dFdx2.subs(s))"
   ]
  },
  {
   "cell_type": "code",
   "execution_count": null,
   "metadata": {},
   "outputs": [],
   "source": []
  }
 ],
 "metadata": {
  "kernelspec": {
   "display_name": "Python 3",
   "language": "python",
   "name": "python3"
  },
  "language_info": {
   "codemirror_mode": {
    "name": "ipython",
    "version": 3
   },
   "file_extension": ".py",
   "mimetype": "text/x-python",
   "name": "python",
   "nbconvert_exporter": "python",
   "pygments_lexer": "ipython3",
   "version": "3.8.2"
  }
 },
 "nbformat": 4,
 "nbformat_minor": 4
}
