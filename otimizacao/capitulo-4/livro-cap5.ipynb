{
 "cells": [
  {
   "cell_type": "markdown",
   "metadata": {},
   "source": [
    "# Livro Cap 5"
   ]
  },
  {
   "cell_type": "code",
   "execution_count": 1,
   "metadata": {},
   "outputs": [],
   "source": [
    "from sympy import *\n",
    "from sympy.plotting import plot, plot3d"
   ]
  },
  {
   "cell_type": "code",
   "execution_count": 2,
   "metadata": {},
   "outputs": [],
   "source": [
    "def equacoes(x1, x2):\n",
    "    return (\n",
    "        -x1**3-4*x1-x2,\n",
    "        3*x1\n",
    "    )\n",
    "\n",
    "x1, x2 = var('x1 x2', real=True)\n",
    "alpha = 1e-8\n",
    "\n",
    "dFdx1, dFdx2 = equacoes(x1, x2)"
   ]
  },
  {
   "cell_type": "code",
   "execution_count": 3,
   "metadata": {},
   "outputs": [
    {
     "data": {
      "text/plain": [
       "[{x1: 0, x2: 0}]"
      ]
     },
     "execution_count": 3,
     "metadata": {},
     "output_type": "execute_result"
    }
   ],
   "source": [
    "s = solve([dFdx1, dFdx2], [x1, x2], dict=True)\n",
    "#s = nonlinsolve([dFdx1, dFdx2], [x1, x2])\n",
    "#s = nsolve([dFdx1, dFdx2], [x1, x2], (-1, 1))\n",
    "s"
   ]
  },
  {
   "cell_type": "code",
   "execution_count": 4,
   "metadata": {},
   "outputs": [
    {
     "name": "stdout",
     "output_type": "stream",
     "text": [
      "Hessiana\n"
     ]
    },
    {
     "data": {
      "text/latex": [
       "$\\displaystyle \\left[\\begin{matrix}- 3 x_{1}^{2} - 4 & -1\\\\3 & 0\\end{matrix}\\right]$"
      ],
      "text/plain": [
       "Matrix([\n",
       "[-3*x1**2 - 4, -1],\n",
       "[           3,  0]])"
      ]
     },
     "execution_count": 4,
     "metadata": {},
     "output_type": "execute_result"
    }
   ],
   "source": [
    "dFdx1x1 = diff(dFdx1, x1)\n",
    "dFdx2x2 = diff(dFdx2, x2)\n",
    "dFdx1x2 = diff(dFdx1, x2)\n",
    "dFdx2x1 = diff(dFdx2, x1)\n",
    "\n",
    "H = Matrix([\n",
    "    [simplify(dFdx1x1), simplify(dFdx1x2)],\n",
    "    [simplify(dFdx2x1), simplify(dFdx2x2)]\n",
    "])\n",
    "print(\"Hessiana\")\n",
    "H"
   ]
  },
  {
   "cell_type": "code",
   "execution_count": 5,
   "metadata": {},
   "outputs": [
    {
     "data": {
      "text/markdown": [
       "## Solução: {x1: 0, x2: 0}"
      ],
      "text/plain": [
       "<IPython.core.display.Markdown object>"
      ]
     },
     "metadata": {},
     "output_type": "display_data"
    },
    {
     "data": {
      "text/markdown": [
       "### Hessiana"
      ],
      "text/plain": [
       "<IPython.core.display.Markdown object>"
      ]
     },
     "metadata": {},
     "output_type": "display_data"
    },
    {
     "data": {
      "text/latex": [
       "$\\displaystyle \\left[\\begin{matrix}-4 & -1\\\\3 & 0\\end{matrix}\\right]$"
      ],
      "text/plain": [
       "Matrix([\n",
       "[-4, -1],\n",
       "[ 3,  0]])"
      ]
     },
     "metadata": {},
     "output_type": "display_data"
    },
    {
     "data": {
      "text/markdown": [
       "### Sistema Linear "
      ],
      "text/plain": [
       "<IPython.core.display.Markdown object>"
      ]
     },
     "metadata": {},
     "output_type": "display_data"
    },
    {
     "data": {
      "text/latex": [
       "$\\displaystyle \\left[\\begin{matrix}x'_{1}\\\\x'_{2}\\end{matrix}\\right]=\\left[\\begin{matrix}-4 & -1\\\\3 & 0\\end{matrix}\\right]\\left[\\begin{matrix}x_{1}\\\\x_{2}\\end{matrix}\\right]$"
      ],
      "text/plain": [
       "<IPython.core.display.Math object>"
      ]
     },
     "metadata": {},
     "output_type": "display_data"
    },
    {
     "data": {
      "text/latex": [
       "$\\displaystyle \\left[\\begin{matrix}x'_{1}\\\\x'_{2}\\end{matrix}\\right]=\\left[\\begin{matrix}- 4 x_{1} - x_{2}\\\\3 x_{1}\\end{matrix}\\right]$"
      ],
      "text/plain": [
       "<IPython.core.display.Math object>"
      ]
     },
     "metadata": {},
     "output_type": "display_data"
    },
    {
     "data": {
      "text/markdown": [
       "### Solução geral: "
      ],
      "text/plain": [
       "<IPython.core.display.Markdown object>"
      ]
     },
     "metadata": {},
     "output_type": "display_data"
    },
    {
     "data": {
      "text/markdown": [
       "\n",
       "* **Multiplicidade**: 1\n",
       "* **Autovalor:** -3\n",
       "* **Autovetor**\n",
       "        "
      ],
      "text/plain": [
       "<IPython.core.display.Markdown object>"
      ]
     },
     "metadata": {},
     "output_type": "display_data"
    },
    {
     "data": {
      "text/latex": [
       "$\\displaystyle \\left[\\begin{matrix}\\lambda + 4 & 1\\\\-3 & \\lambda\\end{matrix}\\right]\\left[\\begin{matrix}x_{1}\\\\x_{2}\\end{matrix}\\right]=\\left[\\begin{matrix}0\\\\0\\end{matrix}\\right]$"
      ],
      "text/plain": [
       "<IPython.core.display.Math object>"
      ]
     },
     "metadata": {},
     "output_type": "display_data"
    },
    {
     "data": {
      "text/latex": [
       "$\\displaystyle \\left[\\begin{matrix}1 & 1\\\\-3 & -3\\end{matrix}\\right]\\left[\\begin{matrix}x_{1}\\\\x_{2}\\end{matrix}\\right]=\\left[\\begin{matrix}0\\\\0\\end{matrix}\\right]$"
      ],
      "text/plain": [
       "<IPython.core.display.Math object>"
      ]
     },
     "metadata": {},
     "output_type": "display_data"
    },
    {
     "data": {
      "text/latex": [
       "$\\displaystyle \\left[\\begin{matrix}x_{1}\\\\x_{2}\\end{matrix}\\right]=\\left[\\begin{matrix}-1\\\\1\\end{matrix}\\right]$"
      ],
      "text/plain": [
       "<IPython.core.display.Math object>"
      ]
     },
     "metadata": {},
     "output_type": "display_data"
    },
    {
     "data": {
      "text/markdown": [
       "\n",
       "* **Multiplicidade**: 1\n",
       "* **Autovalor:** -1\n",
       "* **Autovetor**\n",
       "        "
      ],
      "text/plain": [
       "<IPython.core.display.Markdown object>"
      ]
     },
     "metadata": {},
     "output_type": "display_data"
    },
    {
     "data": {
      "text/latex": [
       "$\\displaystyle \\left[\\begin{matrix}\\lambda + 4 & 1\\\\-3 & \\lambda\\end{matrix}\\right]\\left[\\begin{matrix}x_{1}\\\\x_{2}\\end{matrix}\\right]=\\left[\\begin{matrix}0\\\\0\\end{matrix}\\right]$"
      ],
      "text/plain": [
       "<IPython.core.display.Math object>"
      ]
     },
     "metadata": {},
     "output_type": "display_data"
    },
    {
     "data": {
      "text/latex": [
       "$\\displaystyle \\left[\\begin{matrix}3 & 1\\\\-3 & -1\\end{matrix}\\right]\\left[\\begin{matrix}x_{1}\\\\x_{2}\\end{matrix}\\right]=\\left[\\begin{matrix}0\\\\0\\end{matrix}\\right]$"
      ],
      "text/plain": [
       "<IPython.core.display.Math object>"
      ]
     },
     "metadata": {},
     "output_type": "display_data"
    },
    {
     "data": {
      "text/latex": [
       "$\\displaystyle \\left[\\begin{matrix}x_{1}\\\\x_{2}\\end{matrix}\\right]=\\left[\\begin{matrix}- \\frac{1}{3}\\\\1\\end{matrix}\\right]$"
      ],
      "text/plain": [
       "<IPython.core.display.Math object>"
      ]
     },
     "metadata": {},
     "output_type": "display_data"
    },
    {
     "data": {
      "text/markdown": [
       "**General solution to this linear system**"
      ],
      "text/plain": [
       "<IPython.core.display.Markdown object>"
      ]
     },
     "metadata": {},
     "output_type": "display_data"
    },
    {
     "data": {
      "text/latex": [
       "$\\displaystyle \\left[\\begin{matrix}x_{1}\\\\x_{2}\\end{matrix}\\right]=c_{1}\\left[\\begin{matrix}-1\\\\1\\end{matrix}\\right]e^{- 3 t}+c_{2}\\left[\\begin{matrix}- \\frac{1}{3}\\\\1\\end{matrix}\\right]e^{- t}$"
      ],
      "text/plain": [
       "<IPython.core.display.Math object>"
      ]
     },
     "metadata": {},
     "output_type": "display_data"
    }
   ],
   "source": [
    "from forma_geral import forma_geral\n",
    "\n",
    "forma_geral(H, s)"
   ]
  },
  {
   "cell_type": "code",
   "execution_count": 6,
   "metadata": {},
   "outputs": [],
   "source": [
    "solucoes = [\n",
    "    [float(i[x1]) for i in s],\n",
    "    [float(i[x2]) for i in s]\n",
    "]"
   ]
  },
  {
   "cell_type": "code",
   "execution_count": 7,
   "metadata": {},
   "outputs": [
    {
     "ename": "NameError",
     "evalue": "name 'np' is not defined",
     "output_type": "error",
     "traceback": [
      "\u001b[0;31m---------------------------------------------------------------------------\u001b[0m",
      "\u001b[0;31mNameError\u001b[0m                                 Traceback (most recent call last)",
      "\u001b[0;32m<ipython-input-7-2725d2f0a0ef>\u001b[0m in \u001b[0;36m<module>\u001b[0;34m\u001b[0m\n\u001b[1;32m      6\u001b[0m ]\n\u001b[1;32m      7\u001b[0m \u001b[0;34m\u001b[0m\u001b[0m\n\u001b[0;32m----> 8\u001b[0;31m \u001b[0mphase_portrait\u001b[0m\u001b[0;34m(\u001b[0m\u001b[0mlinhas\u001b[0m\u001b[0;34m,\u001b[0m \u001b[0mH\u001b[0m\u001b[0;34m,\u001b[0m \u001b[0ms\u001b[0m\u001b[0;34m[\u001b[0m\u001b[0;36m0\u001b[0m\u001b[0;34m]\u001b[0m\u001b[0;34m,\u001b[0m \u001b[0mnp\u001b[0m\u001b[0;34m.\u001b[0m\u001b[0mlinspace\u001b[0m\u001b[0;34m(\u001b[0m\u001b[0;34m-\u001b[0m\u001b[0;36m0.5\u001b[0m\u001b[0;34m,\u001b[0m \u001b[0;36m10\u001b[0m\u001b[0;34m,\u001b[0m \u001b[0;36m100\u001b[0m\u001b[0;34m)\u001b[0m\u001b[0;34m)\u001b[0m\u001b[0;34m\u001b[0m\u001b[0;34m\u001b[0m\u001b[0m\n\u001b[0m",
      "\u001b[0;31mNameError\u001b[0m: name 'np' is not defined"
     ]
    }
   ],
   "source": [
    "from phase_portrait import phase_portrait\n",
    "\n",
    "linhas = [\n",
    "    #(-.2, .2), (.2, -.2), (.2, .2), (-.2, -.2),\n",
    "    (-1, 1), (1, -1), (1, 1), (-1, -1),\n",
    "]\n",
    "\n",
    "phase_portrait(linhas, H, s[0], np.linspace(-0.5, 10, 100))"
   ]
  },
  {
   "cell_type": "code",
   "execution_count": null,
   "metadata": {},
   "outputs": [],
   "source": [
    "import locale\n",
    "import matplotlib as mpl\n",
    "from curvas_de_solucoes import curvas_de_solucoes\n",
    "from equacoes import equacoes_aproximacao_linear, solucao_geral\n",
    "import numpy as np\n",
    "import matplotlib.pyplot as plt\n",
    "from IPython.display import set_matplotlib_formats\n",
    "\n",
    "locale.setlocale(locale.LC_NUMERIC, \"pt_BR.UTF-8\")\n",
    "mpl.rcParams['axes.formatter.use_locale'] = True\n",
    "set_matplotlib_formats('pdf')\n",
    "plt.rcParams[\"figure.figsize\"] = (8, 8)\n",
    "\n",
    "x1min, x1max = (-1, 1)\n",
    "x2min, x2max = (-3, 3)\n",
    "\n",
    "fig = plt.figure(num=1)\n",
    "ax=fig.add_subplot(111)\n",
    "\n",
    "hessiana = H.subs(s[0])\n",
    "\n",
    "x1graf, x2graf = np.meshgrid(np.linspace(x1min, x1max, 25), np.linspace(x2min, x2max, 25))\n",
    "\n",
    "linhas = [\n",
    "    #(-.2, .2), (.2, -.2), (.2, .2), (-.2, -.2),\n",
    "    (-1, 1), (1, -1), (1, 1), (-1, -1),\n",
    "]\n",
    "\n",
    "for x, y in linhas:\n",
    "    linha = solucao_geral(x, y, np.linspace(-0.5, 10, 100), hessiana)\n",
    "    plt.plot(*linha, 'r:')\n",
    "\n",
    "f1, f2 = equacoes_aproximacao_linear(x1graf, x2graf, hessiana)\n",
    "normalizador = np.sqrt(f1**2+f2**2)\n",
    "plt.quiver(x1graf, x2graf, f1/normalizador, f2/normalizador, color='#156dbd', angles='xy')\n",
    "\n",
    "ax.scatter(solucoes[0], solucoes[1], marker='o', edgecolors='black', color='w')\n",
    "\n",
    "ax = plt.axes()\n",
    "ax.set_xlim([x1min, x1max])\n",
    "ax.set_ylim([x2min, x2max])\n",
    "ax.set_xlabel('$x_1$')\n",
    "ax.set_ylabel('$x_2$')\n",
    "\n",
    "plt.show()"
   ]
  }
 ],
 "metadata": {
  "kernelspec": {
   "display_name": "Python 3",
   "language": "python",
   "name": "python3"
  },
  "language_info": {
   "codemirror_mode": {
    "name": "ipython",
    "version": 3
   },
   "file_extension": ".py",
   "mimetype": "text/x-python",
   "name": "python",
   "nbconvert_exporter": "python",
   "pygments_lexer": "ipython3",
   "version": "3.8.2"
  }
 },
 "nbformat": 4,
 "nbformat_minor": 4
}
