{
 "cells": [
  {
   "cell_type": "code",
   "execution_count": 1,
   "metadata": {},
   "outputs": [],
   "source": [
    "#pip install sympy"
   ]
  },
  {
   "cell_type": "code",
   "execution_count": 2,
   "metadata": {},
   "outputs": [
    {
     "data": {
      "text/latex": [
       "$\\displaystyle x_{1} \\left(- \\frac{x_{1}}{100} - \\frac{3 x_{2}}{1000} + 339\\right) - 195 x_{1} + x_{2} \\left(- \\frac{x_{1}}{250} - \\frac{x_{2}}{100} + 399\\right) - 225 x_{2} - 400000$"
      ],
      "text/plain": [
       "x1*(-x1/100 - 3*x2/1000 + 339) - 195*x1 + x2*(-x1/250 - x2/100 + 399) - 225*x2 - 400000"
      ]
     },
     "execution_count": 2,
     "metadata": {},
     "output_type": "execute_result"
    }
   ],
   "source": [
    "from sympy import solve, var, symbols, diff, N\n",
    "\n",
    "x1 = var('x1', real=True)\n",
    "x2 = var('x2', real=True)\n",
    "\n",
    "y = (339 - x1/100 -3*x2/1000)*x1 + (399-4*x1/1000-x2/100)*x2 - (400000 + 195*x1+225*x2)\n",
    "y"
   ]
  },
  {
   "cell_type": "code",
   "execution_count": 3,
   "metadata": {},
   "outputs": [
    {
     "data": {
      "text/latex": [
       "$\\displaystyle - \\frac{x_{1}}{50} - \\frac{7 x_{2}}{1000} + 144$"
      ],
      "text/plain": [
       "-x1/50 - 7*x2/1000 + 144"
      ]
     },
     "execution_count": 3,
     "metadata": {},
     "output_type": "execute_result"
    }
   ],
   "source": [
    "dydx1 = diff(y, x1)\n",
    "dydx1"
   ]
  },
  {
   "cell_type": "code",
   "execution_count": 4,
   "metadata": {},
   "outputs": [
    {
     "data": {
      "text/latex": [
       "$\\displaystyle - \\frac{7 x_{1}}{1000} - \\frac{x_{2}}{50} + 174$"
      ],
      "text/plain": [
       "-7*x1/1000 - x2/50 + 174"
      ]
     },
     "execution_count": 4,
     "metadata": {},
     "output_type": "execute_result"
    }
   ],
   "source": [
    "dydx2 = diff(y, x2)\n",
    "dydx2"
   ]
  },
  {
   "cell_type": "code",
   "execution_count": 5,
   "metadata": {},
   "outputs": [
    {
     "data": {
      "text/plain": [
       "{x1: 554000/117, x2: 824000/117}"
      ]
     },
     "execution_count": 5,
     "metadata": {},
     "output_type": "execute_result"
    }
   ],
   "source": [
    "s = solve([dydx1, dydx2], [x1, x2])\n",
    "s"
   ]
  },
  {
   "cell_type": "code",
   "execution_count": 6,
   "metadata": {},
   "outputs": [
    {
     "data": {
      "text/plain": [
       "(4735.04273504274, 7042.73504273504)"
      ]
     },
     "execution_count": 6,
     "metadata": {},
     "output_type": "execute_result"
    }
   ],
   "source": [
    "# Obter o valor exato de uma expressão\n",
    "N(s[x1]), N(s[x2])"
   ]
  },
  {
   "cell_type": "code",
   "execution_count": 7,
   "metadata": {},
   "outputs": [
    {
     "data": {
      "text/latex": [
       "$\\displaystyle \\frac{21592000}{39}$"
      ],
      "text/plain": [
       "21592000/39"
      ]
     },
     "execution_count": 7,
     "metadata": {},
     "output_type": "execute_result"
    }
   ],
   "source": [
    "# Aplicar os valores calculados em y\n",
    "# ou seja: y(x1=4735.04..., x2=7042.73...)\n",
    "y_max = y.subs(s)\n",
    "y_max"
   ]
  },
  {
   "cell_type": "code",
   "execution_count": 8,
   "metadata": {},
   "outputs": [
    {
     "data": {
      "text/latex": [
       "$\\displaystyle 553641.025641026$"
      ],
      "text/plain": [
       "553641.025641026"
      ]
     },
     "execution_count": 8,
     "metadata": {},
     "output_type": "execute_result"
    }
   ],
   "source": [
    "N(y_max)"
   ]
  }
 ],
 "metadata": {
  "kernelspec": {
   "display_name": "Python 3",
   "language": "python",
   "name": "python3"
  },
  "language_info": {
   "codemirror_mode": {
    "name": "ipython",
    "version": 3
   },
   "file_extension": ".py",
   "mimetype": "text/x-python",
   "name": "python",
   "nbconvert_exporter": "python",
   "pygments_lexer": "ipython3",
   "version": "3.8.2"
  }
 },
 "nbformat": 4,
 "nbformat_minor": 4
}
