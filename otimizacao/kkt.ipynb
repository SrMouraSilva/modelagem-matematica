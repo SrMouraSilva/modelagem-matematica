{
 "cells": [
  {
   "cell_type": "code",
   "execution_count": 5,
   "metadata": {},
   "outputs": [
    {
     "data": {
      "text/plain": [
       "[{x: 2, lambda: -2}, {x: 4, lambda: 4}]"
      ]
     },
     "execution_count": 5,
     "metadata": {},
     "output_type": "execute_result"
    }
   ],
   "source": [
    "#%pip install sympy\n",
    "# Com lagrangiana e KKT\n",
    "# https://stackoverflow.com/questions/55648586/solving-simple-convex-optimization-in-sympy\n",
    "from sympy import solve, var, symbols, diff\n",
    "x = var('x',real=True);\n",
    "f = x**2+1\n",
    "g = (x-2)*(x-4)\n",
    "\n",
    "l = symbols('lambda', real = True)\n",
    "lagrange = f - l* g\n",
    "grad = [diff(lagrange,x)]\n",
    "kkt_eqs = grad + [g]\n",
    "extremum_points = solve(kkt_eqs, [x, l], dict=True)\n",
    "extremum_points"
   ]
  },
  {
   "cell_type": "code",
   "execution_count": 4,
   "metadata": {},
   "outputs": [
    {
     "data": {
      "text/latex": [
       "$\\displaystyle - \\mu \\left(x - 4\\right) \\left(x - 2\\right) + x^{2} + 1$"
      ],
      "text/plain": [
       "-mu*(x - 4)*(x - 2) + x**2 + 1"
      ]
     },
     "execution_count": 4,
     "metadata": {},
     "output_type": "execute_result"
    }
   ],
   "source": [
    "lagrange"
   ]
  }
 ],
 "metadata": {
  "kernelspec": {
   "display_name": "Python 3",
   "language": "python",
   "name": "python3"
  },
  "language_info": {
   "codemirror_mode": {
    "name": "ipython",
    "version": 3
   },
   "file_extension": ".py",
   "mimetype": "text/x-python",
   "name": "python",
   "nbconvert_exporter": "python",
   "pygments_lexer": "ipython3",
   "version": "3.8.2"
  }
 },
 "nbformat": 4,
 "nbformat_minor": 4
}
