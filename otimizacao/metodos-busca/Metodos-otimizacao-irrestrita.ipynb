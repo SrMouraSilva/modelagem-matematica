{
 "cells": [
  {
   "cell_type": "markdown",
   "metadata": {},
   "source": [
    "# Métodos de busca multidimensional - Irrestrita"
   ]
  },
  {
   "cell_type": "code",
   "execution_count": 2,
   "metadata": {},
   "outputs": [],
   "source": [
    "import numpy as np\n",
    "import pandas as pd"
   ]
  },
  {
   "cell_type": "markdown",
   "metadata": {},
   "source": [
    "**Observação:** Vetores são vetores coluna, que em numpy são matrizes de uma coluna."
   ]
  },
  {
   "cell_type": "code",
   "execution_count": 141,
   "metadata": {},
   "outputs": [],
   "source": [
    "def f(x):\n",
    "    return x[0, :]**2 + x[1, :]**2\n",
    "\n",
    "def f1(x):\n",
    "    a = np.array([\n",
    "        [2],\n",
    "        [2],\n",
    "    ])\n",
    "    return a * x\n",
    "\n",
    "def f2(x):\n",
    "    return np.array([\n",
    "        [2, 0],\n",
    "        [0, 2],\n",
    "    ])\n",
    "\n",
    "def f2inv(x):\n",
    "    return np.array([\n",
    "        [1/2, 0],\n",
    "        [0, 1/2],\n",
    "    ])"
   ]
  },
  {
   "cell_type": "code",
   "execution_count": 102,
   "metadata": {},
   "outputs": [
    {
     "data": {
      "text/plain": [
       "array([[2],\n",
       "       [1]])"
      ]
     },
     "execution_count": 102,
     "metadata": {},
     "output_type": "execute_result"
    }
   ],
   "source": [
    "x = np.array([[2, 1]]).T\n",
    "x"
   ]
  },
  {
   "cell_type": "markdown",
   "metadata": {},
   "source": [
    "## Método do Gradiente"
   ]
  },
  {
   "cell_type": "code",
   "execution_count": 103,
   "metadata": {},
   "outputs": [
    {
     "data": {
      "text/plain": [
       "array([[2., 2., 2., 2., 2., 2., 2., 2., 2., 2., 2.],\n",
       "       [1., 1., 1., 1., 1., 1., 1., 1., 1., 1., 1.]])"
      ]
     },
     "execution_count": 103,
     "metadata": {},
     "output_type": "execute_result"
    }
   ],
   "source": [
    "def otimizar(x_0, numero_iteracoes=10):\n",
    "    x_ = np.zeros((len(x_0), numero_iteracoes+1))\n",
    "    α_ = np.zeros(numero_iteracoes+1)\n",
    "    \n",
    "    x_[:, 0] = x_0.T\n",
    "    \n",
    "    for k in range(numero_iteracoes):\n",
    "        x_[:, k+1] = x_[:, k] + α_[k]*3\n",
    "        \n",
    "    return x_\n",
    "\n",
    "otimizar(x)"
   ]
  },
  {
   "cell_type": "markdown",
   "metadata": {},
   "source": [
    "## Método de Newton"
   ]
  },
  {
   "cell_type": "code",
   "execution_count": 147,
   "metadata": {},
   "outputs": [
    {
     "data": {
      "text/html": [
       "<div>\n",
       "<style scoped>\n",
       "    .dataframe tbody tr th:only-of-type {\n",
       "        vertical-align: middle;\n",
       "    }\n",
       "\n",
       "    .dataframe tbody tr th {\n",
       "        vertical-align: top;\n",
       "    }\n",
       "\n",
       "    .dataframe thead th {\n",
       "        text-align: right;\n",
       "    }\n",
       "</style>\n",
       "<table border=\"1\" class=\"dataframe\">\n",
       "  <thead>\n",
       "    <tr style=\"text-align: right;\">\n",
       "      <th></th>\n",
       "      <th>x_0</th>\n",
       "      <th>x_1</th>\n",
       "      <th>f(x)</th>\n",
       "    </tr>\n",
       "  </thead>\n",
       "  <tbody>\n",
       "    <tr>\n",
       "      <th>0</th>\n",
       "      <td>2.0</td>\n",
       "      <td>1.0</td>\n",
       "      <td>5.0</td>\n",
       "    </tr>\n",
       "    <tr>\n",
       "      <th>1</th>\n",
       "      <td>0.0</td>\n",
       "      <td>0.0</td>\n",
       "      <td>0.0</td>\n",
       "    </tr>\n",
       "    <tr>\n",
       "      <th>2</th>\n",
       "      <td>0.0</td>\n",
       "      <td>0.0</td>\n",
       "      <td>0.0</td>\n",
       "    </tr>\n",
       "    <tr>\n",
       "      <th>3</th>\n",
       "      <td>0.0</td>\n",
       "      <td>0.0</td>\n",
       "      <td>0.0</td>\n",
       "    </tr>\n",
       "    <tr>\n",
       "      <th>4</th>\n",
       "      <td>0.0</td>\n",
       "      <td>0.0</td>\n",
       "      <td>0.0</td>\n",
       "    </tr>\n",
       "    <tr>\n",
       "      <th>5</th>\n",
       "      <td>0.0</td>\n",
       "      <td>0.0</td>\n",
       "      <td>0.0</td>\n",
       "    </tr>\n",
       "    <tr>\n",
       "      <th>6</th>\n",
       "      <td>0.0</td>\n",
       "      <td>0.0</td>\n",
       "      <td>0.0</td>\n",
       "    </tr>\n",
       "    <tr>\n",
       "      <th>7</th>\n",
       "      <td>0.0</td>\n",
       "      <td>0.0</td>\n",
       "      <td>0.0</td>\n",
       "    </tr>\n",
       "    <tr>\n",
       "      <th>8</th>\n",
       "      <td>0.0</td>\n",
       "      <td>0.0</td>\n",
       "      <td>0.0</td>\n",
       "    </tr>\n",
       "    <tr>\n",
       "      <th>9</th>\n",
       "      <td>0.0</td>\n",
       "      <td>0.0</td>\n",
       "      <td>0.0</td>\n",
       "    </tr>\n",
       "    <tr>\n",
       "      <th>10</th>\n",
       "      <td>0.0</td>\n",
       "      <td>0.0</td>\n",
       "      <td>0.0</td>\n",
       "    </tr>\n",
       "  </tbody>\n",
       "</table>\n",
       "</div>"
      ],
      "text/plain": [
       "    x_0  x_1  f(x)\n",
       "0   2.0  1.0   5.0\n",
       "1   0.0  0.0   0.0\n",
       "2   0.0  0.0   0.0\n",
       "3   0.0  0.0   0.0\n",
       "4   0.0  0.0   0.0\n",
       "5   0.0  0.0   0.0\n",
       "6   0.0  0.0   0.0\n",
       "7   0.0  0.0   0.0\n",
       "8   0.0  0.0   0.0\n",
       "9   0.0  0.0   0.0\n",
       "10  0.0  0.0   0.0"
      ]
     },
     "execution_count": 147,
     "metadata": {},
     "output_type": "execute_result"
    }
   ],
   "source": [
    "def otimizar(x_0, f, f1, f2, f2inv, numero_iteracoes=10):\n",
    "    x_ = np.zeros((len(x_0), numero_iteracoes+1))\n",
    "    \n",
    "    x_[:, 0] = x_0.T\n",
    "    \n",
    "    for k in range(numero_iteracoes):\n",
    "        x_k = x_[:, [k]]\n",
    "\n",
    "        x_k_next = x_k - f2inv(x_k) @ f1(x_k)\n",
    "        x_[:, k+1] = x_k_next.T\n",
    "    \n",
    "    retorno = {f'x_{i}': x_[i] for i in range(len(x_0))}\n",
    "    retorno['f(x)'] = f(x_)\n",
    "    \n",
    "    return pd.DataFrame(retorno)\n",
    "\n",
    "otimizar(x, f, f1, f2, f2inv)"
   ]
  }
 ],
 "metadata": {
  "kernelspec": {
   "display_name": "Python 3",
   "language": "python",
   "name": "python3"
  },
  "language_info": {
   "codemirror_mode": {
    "name": "ipython",
    "version": 3
   },
   "file_extension": ".py",
   "mimetype": "text/x-python",
   "name": "python",
   "nbconvert_exporter": "python",
   "pygments_lexer": "ipython3",
   "version": "3.8.2"
  }
 },
 "nbformat": 4,
 "nbformat_minor": 4
}
