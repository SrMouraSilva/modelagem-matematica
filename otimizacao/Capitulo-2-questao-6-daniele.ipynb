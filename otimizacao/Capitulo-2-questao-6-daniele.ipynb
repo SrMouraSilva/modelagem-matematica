{
 "cells": [
  {
   "cell_type": "markdown",
   "metadata": {},
   "source": [
    "# Questão do Livro 2.6 - Daniele\n",
    "\n",
    "## 2.6.a\n",
    "\n",
    "Determine the price and the advertising budget that will maximize profit. Use the five-step method. Model as a constrained optimization problem, and solve using the method of Lagrange multipliers.\n"
   ]
  },
  {
   "cell_type": "code",
   "execution_count": 24,
   "metadata": {},
   "outputs": [],
   "source": [
    "from sympy import solve, var, symbols, diff, N, simplify, Eq\n",
    "from sympy.plotting import plot, plot3d"
   ]
  },
  {
   "cell_type": "code",
   "execution_count": 39,
   "metadata": {},
   "outputs": [
    {
     "data": {
      "text/latex": [
       "$\\displaystyle - 15.0 r + \\left(p - 100\\right) \\left(0.02 r + 14000.0\\right) - 9800000.0$"
      ],
      "text/plain": [
       "-15.0*r + (p - 100)*(0.02*r + 14000.0) - 9800000.0"
      ]
     },
     "execution_count": 39,
     "metadata": {},
     "output_type": "execute_result"
    }
   ],
   "source": [
    "#d = var('d', real=True)\n",
    "#g = var('g', real=True)\n",
    "p = var('p', real=True)\n",
    "r = var('r', real=True)\n",
    "\n",
    "n_o = 10000\n",
    "d = 100\n",
    "g = 10000\n",
    "#p = 950 - d\n",
    "n = n_o + 0.5*n_o*d/100 + 200*g/10000\n",
    "\n",
    "#r = 50000 + g\n",
    "\n",
    "C = 700*n + r\n",
    "R = (p - 100) * n\n",
    "L = R - C\n",
    "\n",
    "L = (p-100)*(10000+5000+0.02*(r - 50000)) - 700*(10000+5000+0.02*(r-50000))-r\n",
    "L"
   ]
  },
  {
   "cell_type": "code",
   "execution_count": 40,
   "metadata": {},
   "outputs": [
    {
     "data": {
      "text/latex": [
       "$\\displaystyle - 15.0 r + \\left(p - 100\\right) \\left(0.02 r + 14000.0\\right) - 9800000.0$"
      ],
      "text/plain": [
       "-15.0*r + (p - 100)*(0.02*r + 14000.0) - 9800000.0"
      ]
     },
     "execution_count": 40,
     "metadata": {},
     "output_type": "execute_result"
    }
   ],
   "source": [
    "simplify(L)"
   ]
  },
  {
   "cell_type": "code",
   "execution_count": 41,
   "metadata": {},
   "outputs": [
    {
     "name": "stdout",
     "output_type": "stream",
     "text": [
      "Lucro normal\n"
     ]
    },
    {
     "data": {
      "text/latex": [
       "$\\displaystyle 2220000.0$"
      ],
      "text/plain": [
       "2220000.00000000"
      ]
     },
     "execution_count": 41,
     "metadata": {},
     "output_type": "execute_result"
    }
   ],
   "source": [
    "print(\"Lucro normal\")\n",
    "L.subs({r: 60000, p: 950})"
   ]
  },
  {
   "cell_type": "code",
   "execution_count": 11,
   "metadata": {},
   "outputs": [
    {
     "ename": "NameError",
     "evalue": "name 'L' is not defined",
     "output_type": "error",
     "traceback": [
      "\u001b[0;31m---------------------------------------------------------------------------\u001b[0m",
      "\u001b[0;31mNameError\u001b[0m                                 Traceback (most recent call last)",
      "\u001b[0;32m<ipython-input-11-ebb12a9ea4e1>\u001b[0m in \u001b[0;36m<module>\u001b[0;34m\u001b[0m\n\u001b[1;32m      1\u001b[0m \u001b[0;31m#plot3d(L)\u001b[0m\u001b[0;34m\u001b[0m\u001b[0;34m\u001b[0m\u001b[0;34m\u001b[0m\u001b[0m\n\u001b[0;32m----> 2\u001b[0;31m \u001b[0mplot3d\u001b[0m\u001b[0;34m(\u001b[0m\u001b[0mL\u001b[0m\u001b[0;34m,\u001b[0m \u001b[0;34m(\u001b[0m\u001b[0md\u001b[0m\u001b[0;34m,\u001b[0m \u001b[0;36m0\u001b[0m\u001b[0;34m,\u001b[0m \u001b[0;36m2.5\u001b[0m\u001b[0;34m)\u001b[0m\u001b[0;34m,\u001b[0m \u001b[0;34m(\u001b[0m\u001b[0mm\u001b[0m\u001b[0;34m,\u001b[0m \u001b[0;36m0\u001b[0m\u001b[0;34m,\u001b[0m \u001b[0;36m5\u001b[0m\u001b[0;34m)\u001b[0m\u001b[0;34m)\u001b[0m\u001b[0;34m\u001b[0m\u001b[0;34m\u001b[0m\u001b[0m\n\u001b[0m",
      "\u001b[0;31mNameError\u001b[0m: name 'L' is not defined"
     ]
    }
   ],
   "source": [
    "#plot3d(L)\n",
    "plot3d(R, (d, 0, 2002.5), (m, 0, 5))"
   ]
  },
  {
   "cell_type": "markdown",
   "metadata": {},
   "source": [
    "### Otimização sem restrição\n",
    "\n",
    "Por favor ignorar e ir para a próxima seção."
   ]
  },
  {
   "cell_type": "code",
   "execution_count": 5,
   "metadata": {},
   "outputs": [
    {
     "data": {
      "text/latex": [
       "$\\displaystyle - 10000.0 d^{2} m - 500000.0 d^{2} + 5000.0 d m + 250000.0 d + 40000.0 m + 2450000.0$"
      ],
      "text/plain": [
       "-10000.0*d**2*m - 500000.0*d**2 + 5000.0*d*m + 250000.0*d + 40000.0*m + 2450000.0"
      ]
     },
     "execution_count": 5,
     "metadata": {},
     "output_type": "execute_result"
    }
   ],
   "source": [
    "simplify(L)"
   ]
  },
  {
   "cell_type": "code",
   "execution_count": 6,
   "metadata": {},
   "outputs": [
    {
     "data": {
      "text/latex": [
       "$\\displaystyle - 20000.0 d m - 1000000.0 d + 5000.0 m + 250000.0$"
      ],
      "text/plain": [
       "-20000.0*d*m - 1000000.0*d + 5000.0*m + 250000.0"
      ]
     },
     "execution_count": 6,
     "metadata": {},
     "output_type": "execute_result"
    }
   ],
   "source": [
    "dLdd = diff(L, d)\n",
    "simplify(dLdd)"
   ]
  },
  {
   "cell_type": "code",
   "execution_count": 7,
   "metadata": {},
   "outputs": [
    {
     "data": {
      "text/latex": [
       "$\\displaystyle - 10000.0 d^{2} + 5000.0 d + 40000.0$"
      ],
      "text/plain": [
       "-10000.0*d**2 + 5000.0*d + 40000.0"
      ]
     },
     "execution_count": 7,
     "metadata": {},
     "output_type": "execute_result"
    }
   ],
   "source": [
    "dLdm = diff(L, m)\n",
    "simplify(dLdm)"
   ]
  },
  {
   "cell_type": "code",
   "execution_count": 8,
   "metadata": {},
   "outputs": [
    {
     "data": {
      "text/plain": [
       "[{d: -1.76556443707464, m: -50.0000000000000},\n",
       " {d: 2.26556443707464, m: -50.0000000000000}]"
      ]
     },
     "execution_count": 8,
     "metadata": {},
     "output_type": "execute_result"
    }
   ],
   "source": [
    "s = solve([dLdd, dLdm], [d, m], dict=True)\n",
    "s"
   ]
  },
  {
   "cell_type": "code",
   "execution_count": 9,
   "metadata": {},
   "outputs": [
    {
     "data": {
      "text/latex": [
       "$\\displaystyle 450000.000000002$"
      ],
      "text/plain": [
       "450000.000000002"
      ]
     },
     "execution_count": 9,
     "metadata": {},
     "output_type": "execute_result"
    }
   ],
   "source": [
    "L.subs(s[-1])"
   ]
  },
  {
   "cell_type": "markdown",
   "metadata": {},
   "source": [
    "### Otimização com restrição"
   ]
  },
  {
   "cell_type": "code",
   "execution_count": 42,
   "metadata": {},
   "outputs": [
    {
     "data": {
      "text/latex": [
       "$\\displaystyle - \\mu \\left(100000 - r\\right) - 15.0 r + \\left(p - 100\\right) \\left(0.02 r + 14000.0\\right) - 9800000.0$"
      ],
      "text/plain": [
       "-mu*(100000 - r) - 15.0*r + (p - 100)*(0.02*r + 14000.0) - 9800000.0"
      ]
     },
     "execution_count": 42,
     "metadata": {},
     "output_type": "execute_result"
    }
   ],
   "source": [
    "mu = symbols('mu', real = True)\n",
    "\n",
    "lagrange = L - mu * (100000 - r)\n",
    "lagrange"
   ]
  },
  {
   "cell_type": "code",
   "execution_count": 43,
   "metadata": {},
   "outputs": [],
   "source": [
    "grads = diff(lagrange, p), diff(lagrange, r), diff(lagrange, mu)"
   ]
  },
  {
   "cell_type": "code",
   "execution_count": 44,
   "metadata": {},
   "outputs": [
    {
     "data": {
      "text/latex": [
       "$\\displaystyle 0.02 r + 14000.0$"
      ],
      "text/plain": [
       "0.02*r + 14000.0"
      ]
     },
     "execution_count": 44,
     "metadata": {},
     "output_type": "execute_result"
    }
   ],
   "source": [
    "simplify(grads[0])"
   ]
  },
  {
   "cell_type": "code",
   "execution_count": 45,
   "metadata": {},
   "outputs": [
    {
     "data": {
      "text/latex": [
       "$\\displaystyle \\mu + 0.02 p - 17.0$"
      ],
      "text/plain": [
       "mu + 0.02*p - 17.0"
      ]
     },
     "execution_count": 45,
     "metadata": {},
     "output_type": "execute_result"
    }
   ],
   "source": [
    "simplify(grads[1])"
   ]
  },
  {
   "cell_type": "code",
   "execution_count": 46,
   "metadata": {},
   "outputs": [
    {
     "data": {
      "text/latex": [
       "$\\displaystyle r - 100000$"
      ],
      "text/plain": [
       "r - 100000"
      ]
     },
     "execution_count": 46,
     "metadata": {},
     "output_type": "execute_result"
    }
   ],
   "source": [
    "simplify(grads[2])"
   ]
  },
  {
   "cell_type": "code",
   "execution_count": 55,
   "metadata": {},
   "outputs": [
    {
     "data": {
      "text/plain": [
       "[]"
      ]
     },
     "execution_count": 55,
     "metadata": {},
     "output_type": "execute_result"
    }
   ],
   "source": [
    "s2 = solve(grads, [mu, p, r], dict=True)\n",
    "s2"
   ]
  },
  {
   "cell_type": "markdown",
   "metadata": {},
   "source": [
    "ué"
   ]
  },
  {
   "cell_type": "code",
   "execution_count": 16,
   "metadata": {},
   "outputs": [
    {
     "data": {
      "text/latex": [
       "$\\displaystyle 2684375.0$"
      ],
      "text/plain": [
       "2684375.00000000"
      ]
     },
     "execution_count": 16,
     "metadata": {},
     "output_type": "execute_result"
    }
   ],
   "source": [
    "lagrange.subs(s2[0])"
   ]
  },
  {
   "cell_type": "markdown",
   "metadata": {},
   "source": [
    "## 2.6.b\n",
    "\n",
    "Determine the sensitivity of the decision variables (price and advertising) to price elasticity (the 50\\% number).\n"
   ]
  },
  {
   "cell_type": "code",
   "execution_count": 17,
   "metadata": {},
   "outputs": [
    {
     "data": {
      "text/latex": [
       "$\\displaystyle - 10000 m + \\left(950 - 100 d\\right) \\left(200 m + 10000\\right) \\left(a d + 1\\right) - 700 \\left(200 m + 10000\\right) \\left(a d + 1\\right) - 50000$"
      ],
      "text/plain": [
       "-10000*m + (950 - 100*d)*(200*m + 10000)*(a*d + 1) - 700*(200*m + 10000)*(a*d + 1) - 50000"
      ]
     },
     "execution_count": 17,
     "metadata": {},
     "output_type": "execute_result"
    }
   ],
   "source": [
    "d = var('d', real=True)\n",
    "m = var('m', real=True)\n",
    "a = var('a', real=True)\n",
    "\n",
    "c = 700\n",
    "p = 950 - 100*d\n",
    "t = (10000 + 200*m)*(1+a*d)\n",
    "#t = 10000 + 200*m + 5000*d\n",
    "\n",
    "C = c * t\n",
    "P = 50000 + 10000*m\n",
    "R = t * p\n",
    "\n",
    "L = R - P - C\n",
    "L"
   ]
  },
  {
   "cell_type": "code",
   "execution_count": 18,
   "metadata": {},
   "outputs": [
    {
     "data": {
      "text/latex": [
       "$\\displaystyle - 10000 m - \\mu \\left(5 - m\\right) + \\left(950 - 100 d\\right) \\left(200 m + 10000\\right) \\left(a d + 1\\right) - 700 \\left(200 m + 10000\\right) \\left(a d + 1\\right) - 50000$"
      ],
      "text/plain": [
       "-10000*m - mu*(5 - m) + (950 - 100*d)*(200*m + 10000)*(a*d + 1) - 700*(200*m + 10000)*(a*d + 1) - 50000"
      ]
     },
     "execution_count": 18,
     "metadata": {},
     "output_type": "execute_result"
    }
   ],
   "source": [
    "mu = symbols('mu', real = True)\n",
    "\n",
    "lagrange = L - mu * (5 - m)\n",
    "lagrange"
   ]
  },
  {
   "cell_type": "code",
   "execution_count": 19,
   "metadata": {},
   "outputs": [
    {
     "data": {
      "text/plain": [
       "(a*(950 - 100*d)*(200*m + 10000) - 700*a*(200*m + 10000) + (200*m + 10000)*(-100*a*d - 100),\n",
       " -140000*a*d + mu + 200*(950 - 100*d)*(a*d + 1) - 150000,\n",
       " m - 5)"
      ]
     },
     "execution_count": 19,
     "metadata": {},
     "output_type": "execute_result"
    }
   ],
   "source": [
    "grads = diff(lagrange, d), diff(lagrange, m), diff(lagrange, mu)\n",
    "grads"
   ]
  },
  {
   "cell_type": "code",
   "execution_count": 20,
   "metadata": {},
   "outputs": [
    {
     "data": {
      "text/latex": [
       "$\\displaystyle - 10000 \\left(m + 50\\right) \\left(2 a d + a \\left(2 d - 19\\right) + 14 a + 2\\right)$"
      ],
      "text/plain": [
       "-10000*(m + 50)*(2*a*d + a*(2*d - 19) + 14*a + 2)"
      ]
     },
     "execution_count": 20,
     "metadata": {},
     "output_type": "execute_result"
    }
   ],
   "source": [
    "simplify(grads[0])"
   ]
  },
  {
   "cell_type": "code",
   "execution_count": 21,
   "metadata": {},
   "outputs": [
    {
     "data": {
      "text/latex": [
       "$\\displaystyle - 20000 a d^{2} + 50000 a d - 20000 d + \\mu + 40000$"
      ],
      "text/plain": [
       "-20000*a*d**2 + 50000*a*d - 20000*d + mu + 40000"
      ]
     },
     "execution_count": 21,
     "metadata": {},
     "output_type": "execute_result"
    }
   ],
   "source": [
    "simplify(grads[1])"
   ]
  },
  {
   "cell_type": "code",
   "execution_count": 22,
   "metadata": {},
   "outputs": [
    {
     "data": {
      "text/latex": [
       "$\\displaystyle m - 5$"
      ],
      "text/plain": [
       "m - 5"
      ]
     },
     "execution_count": 22,
     "metadata": {},
     "output_type": "execute_result"
    }
   ],
   "source": [
    "simplify(grads[2])"
   ]
  },
  {
   "cell_type": "code",
   "execution_count": 23,
   "metadata": {},
   "outputs": [
    {
     "data": {
      "text/plain": [
       "{d: (5*a - 2)/(4*a), m: 5, mu: -1250*(25*a**2 + 12*a + 4)/a}"
      ]
     },
     "execution_count": 23,
     "metadata": {},
     "output_type": "execute_result"
    }
   ],
   "source": [
    "s3 = solve(grads, [d, m, mu], dict=True)[0]\n",
    "s3"
   ]
  },
  {
   "cell_type": "code",
   "execution_count": 24,
   "metadata": {},
   "outputs": [
    {
     "data": {
      "text/latex": [
       "$\\displaystyle \\frac{5}{4 a} - \\frac{5 a - 2}{4 a^{2}}$"
      ],
      "text/plain": [
       "5/(4*a) - (5*a - 2)/(4*a**2)"
      ]
     },
     "execution_count": 24,
     "metadata": {},
     "output_type": "execute_result"
    }
   ],
   "source": [
    "ddda = diff(s3[d], a)\n",
    "ddda"
   ]
  },
  {
   "cell_type": "code",
   "execution_count": 25,
   "metadata": {},
   "outputs": [
    {
     "data": {
      "text/latex": [
       "$\\displaystyle 0$"
      ],
      "text/plain": [
       "0"
      ]
     },
     "execution_count": 25,
     "metadata": {},
     "output_type": "execute_result"
    }
   ],
   "source": [
    "dmda = diff(s3[m], a)\n",
    "dmda"
   ]
  },
  {
   "cell_type": "code",
   "execution_count": 26,
   "metadata": {},
   "outputs": [
    {
     "name": "stdout",
     "output_type": "stream",
     "text": [
      "d\\mu/da\n"
     ]
    },
    {
     "data": {
      "text/latex": [
       "$\\displaystyle - \\frac{1250 \\left(50 a + 12\\right)}{a} + \\frac{1250 \\left(25 a^{2} + 12 a + 4\\right)}{a^{2}}$"
      ],
      "text/plain": [
       "-1250*(50*a + 12)/a + 1250*(25*a**2 + 12*a + 4)/a**2"
      ]
     },
     "execution_count": 26,
     "metadata": {},
     "output_type": "execute_result"
    }
   ],
   "source": [
    "print(\"d\\mu/da\")\n",
    "diff(s3[mu], a)"
   ]
  },
  {
   "cell_type": "code",
   "execution_count": 27,
   "metadata": {},
   "outputs": [
    {
     "name": "stdout",
     "output_type": "stream",
     "text": [
      "dd(a=0.5)/da\n"
     ]
    },
    {
     "data": {
      "text/latex": [
       "$\\displaystyle 2.0$"
      ],
      "text/plain": [
       "2.00000000000000"
      ]
     },
     "execution_count": 27,
     "metadata": {},
     "output_type": "execute_result"
    }
   ],
   "source": [
    "print('dd(a=0.5)/da')\n",
    "ddda.subs({a:.5})"
   ]
  },
  {
   "cell_type": "markdown",
   "metadata": {},
   "source": [
    "## 2.6.c\n",
    "\n",
    "Determine the sensitivity of the decision variables to the advertising agency's estimate of $200$ new sales each time the advertising budget is increased by $\\USD~10,000$ per month"
   ]
  },
  {
   "cell_type": "code",
   "execution_count": 28,
   "metadata": {},
   "outputs": [
    {
     "data": {
      "text/latex": [
       "$\\displaystyle - 10000 m + \\left(950 - 100 d\\right) \\left(200 b + 10000\\right) \\left(0.5 d + 1\\right) - 700 \\left(200 b + 10000\\right) \\left(0.5 d + 1\\right) - 50000$"
      ],
      "text/plain": [
       "-10000*m + (950 - 100*d)*(200*b + 10000)*(0.5*d + 1) - 700*(200*b + 10000)*(0.5*d + 1) - 50000"
      ]
     },
     "execution_count": 28,
     "metadata": {},
     "output_type": "execute_result"
    }
   ],
   "source": [
    "d = var('d', real=True)\n",
    "m = var('m', real=True)\n",
    "b = var('b', real=True)\n",
    "\n",
    "c = 700\n",
    "p = 950 - 100*d\n",
    "t = (10000 + 200*b)*(1+0.5*d)\n",
    "#t = 10000 + 200*m + 5000*d\n",
    "\n",
    "C = c * t\n",
    "P = 50000 + 10000*m\n",
    "R = t * p\n",
    "\n",
    "L = R - P - C\n",
    "L"
   ]
  },
  {
   "cell_type": "code",
   "execution_count": 29,
   "metadata": {},
   "outputs": [
    {
     "data": {
      "text/latex": [
       "$\\displaystyle - 10000 m - \\mu \\left(5 - m\\right) + \\left(950 - 100 d\\right) \\left(200 b + 10000\\right) \\left(0.5 d + 1\\right) - 700 \\left(200 b + 10000\\right) \\left(0.5 d + 1\\right) - 50000$"
      ],
      "text/plain": [
       "-10000*m - mu*(5 - m) + (950 - 100*d)*(200*b + 10000)*(0.5*d + 1) - 700*(200*b + 10000)*(0.5*d + 1) - 50000"
      ]
     },
     "execution_count": 29,
     "metadata": {},
     "output_type": "execute_result"
    }
   ],
   "source": [
    "mu = symbols('mu', real = True)\n",
    "\n",
    "lagrange = L - mu * (5 - m)\n",
    "lagrange"
   ]
  },
  {
   "cell_type": "code",
   "execution_count": 30,
   "metadata": {},
   "outputs": [
    {
     "data": {
      "text/plain": [
       "(-70000.0*b + (475.0 - 50.0*d)*(200*b + 10000) + (200*b + 10000)*(-50.0*d - 100) - 3500000.0,\n",
       " mu - 10000,\n",
       " m - 5)"
      ]
     },
     "execution_count": 30,
     "metadata": {},
     "output_type": "execute_result"
    }
   ],
   "source": [
    "grads = diff(lagrange, d), diff(lagrange, m), diff(lagrange, mu)\n",
    "grads"
   ]
  },
  {
   "cell_type": "code",
   "execution_count": 31,
   "metadata": {},
   "outputs": [
    {
     "data": {
      "text/latex": [
       "$\\displaystyle - 20000.0 b d + 5000.0 b - 1000000.0 d + 250000.0$"
      ],
      "text/plain": [
       "-20000.0*b*d + 5000.0*b - 1000000.0*d + 250000.0"
      ]
     },
     "execution_count": 31,
     "metadata": {},
     "output_type": "execute_result"
    }
   ],
   "source": [
    "simplify(grads[0])"
   ]
  },
  {
   "cell_type": "code",
   "execution_count": 32,
   "metadata": {},
   "outputs": [
    {
     "data": {
      "text/latex": [
       "$\\displaystyle \\mu - 10000$"
      ],
      "text/plain": [
       "mu - 10000"
      ]
     },
     "execution_count": 32,
     "metadata": {},
     "output_type": "execute_result"
    }
   ],
   "source": [
    "simplify(grads[1])"
   ]
  },
  {
   "cell_type": "code",
   "execution_count": 33,
   "metadata": {},
   "outputs": [
    {
     "data": {
      "text/latex": [
       "$\\displaystyle m - 5$"
      ],
      "text/plain": [
       "m - 5"
      ]
     },
     "execution_count": 33,
     "metadata": {},
     "output_type": "execute_result"
    }
   ],
   "source": [
    "simplify(grads[2])"
   ]
  },
  {
   "cell_type": "code",
   "execution_count": 34,
   "metadata": {},
   "outputs": [
    {
     "data": {
      "text/plain": [
       "{d: 0.250000000000000, m: 5.00000000000000, mu: 10000.0000000000}"
      ]
     },
     "execution_count": 34,
     "metadata": {},
     "output_type": "execute_result"
    }
   ],
   "source": [
    "s4 = solve(grads, [d, m, mu], dict=True)[0]\n",
    "s4"
   ]
  }
 ],
 "metadata": {
  "kernelspec": {
   "display_name": "Python 3",
   "language": "python",
   "name": "python3"
  },
  "language_info": {
   "codemirror_mode": {
    "name": "ipython",
    "version": 3
   },
   "file_extension": ".py",
   "mimetype": "text/x-python",
   "name": "python",
   "nbconvert_exporter": "python",
   "pygments_lexer": "ipython3",
   "version": "3.8.2"
  }
 },
 "nbformat": 4,
 "nbformat_minor": 4
}
