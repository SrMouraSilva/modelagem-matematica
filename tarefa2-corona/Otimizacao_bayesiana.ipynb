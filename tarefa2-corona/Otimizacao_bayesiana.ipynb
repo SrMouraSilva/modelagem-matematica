{
 "cells": [
  {
   "cell_type": "code",
   "execution_count": 1,
   "metadata": {},
   "outputs": [],
   "source": [
    "from GPyOpt.methods import BayesianOptimization\n",
    "\n",
    "def simulacao_com_otimizacao_β(γ, ρ, max_iter=200):\n",
    "    bounds = [\n",
    "        {'name': 'β', 'type': 'continuous', 'domain': (0.001, 5.)},\n",
    "        #{'name': 'γ', 'type': 'continuous', 'domain': (1/21, 1/3)},\n",
    "        #{'name': 'ρ', 'type': 'continuous', 'domain': (0.8/100, 15/100)},\n",
    "    ]\n",
    "\n",
    "    def f(x):\n",
    "        β = x[0][0]\n",
    "        resultado = simulacao(β=β, γ=γ, ρ=ρ, plot=False)\n",
    "\n",
    "        infectados = resultado[:,1][:len(casos_corona)]\n",
    "        return rmse(infectados, casos_corona)\n",
    "\n",
    "    optimization = BayesianOptimization(f=f, domain=bounds, verbosity=True)\n",
    "    optimization.run_optimization(max_iter=max_iter)\n",
    "\n",
    "    print('RMSE:', optimization.fx_opt)\n",
    "    print('β encontrado:', optimization.x_opt)\n",
    "\n",
    "    simulacao(*optimization.x_opt, γ=γ, ρ=ρ)"
   ]
  }
 ],
 "metadata": {
  "kernelspec": {
   "display_name": "Python 3",
   "language": "python",
   "name": "python3"
  },
  "language_info": {
   "codemirror_mode": {
    "name": "ipython",
    "version": 3
   },
   "file_extension": ".py",
   "mimetype": "text/x-python",
   "name": "python",
   "nbconvert_exporter": "python",
   "pygments_lexer": "ipython3",
   "version": "3.7.3"
  }
 },
 "nbformat": 4,
 "nbformat_minor": 4
}
